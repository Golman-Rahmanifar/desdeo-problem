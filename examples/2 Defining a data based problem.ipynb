{
 "cells": [
  {
   "cell_type": "markdown",
   "metadata": {},
   "source": [
    "# Data Based Problems\n",
    "\n",
    "The DESDEO framework provides handling of data-driven optimization problems. Some methods, such as E-NAUTILUS in `desdeo-mcdm`, find the most preffered solution from a provided dataset. Other methods, such as most of the EA's from `desdeo-emo`, require a surrogate model to be trained for each of the objectives. The `desdeo_problem` provides support for both of these cases. \n",
    "\n",
    "For data based problems, use the data specific objective/problem classes"
   ],
   "execution_count": null,
   "outputs": []
  },
  {
   "cell_type": "code",
   "execution_count": 1,
   "metadata": {},
   "outputs": [],
   "source": [
    "import pandas as pd\n",
    "import numpy as np"
   ]
  },
  {
   "cell_type": "markdown",
   "metadata": {},
   "source": [
    "VectorDataObjective is an objective class that can handle data, as well as multi-objective evaluators.\n",
    "\n",
    "The GaussianProcessRegressor here is same as the one in scikit-learn with one small difference. The predict method has been replaced to return uncertainity values (in the form of standard deviation of the prediction) by default. It supports hyperparameters in the same format as the sklearn method."
   ],
   "execution_count": null,
   "outputs": []
  },
  {
   "cell_type": "code",
   "execution_count": 2,
   "metadata": {},
   "outputs": [],
   "source": [
    "from desdeo_problem.Objective import VectorDataObjective as VDO\n",
    "from desdeo_problem.surrogatemodels.SurrogateModels import GaussianProcessRegressor\n",
    "from sklearn.gaussian_process.kernels import Matern"
   ]
  },
  {
   "cell_type": "markdown",
   "metadata": {},
   "source": [
    "### Creating some random data\n",
    "\n",
    "'a' and 'b' are randomly generated between 0 and 1.\n",
    "\n",
    "f1 = a + b  \n",
    "f2 = a * b\n",
    "\n",
    "For data-driven problems, make sure that the input dataset is in the pandas DataFrame format, with the column names being the same as the variable/objective names."
   ],
   "execution_count": null,
   "outputs": []
  },
  {
   "cell_type": "code",
   "execution_count": 3,
   "metadata": {},
   "outputs": [
    {
     "output_type": "execute_result",
     "data": {
      "text/plain": "          a         b        f1        f2\n0  0.186979  0.443815  0.630795  0.082984\n1  0.623897  0.508347  1.132244  0.317156\n2  0.339249  0.842154  1.181403  0.285700\n3  0.381914  0.860903  1.242817  0.328791\n4  0.888904  0.340132  1.229036  0.302345",
      "text/html": "<div>\n<style scoped>\n    .dataframe tbody tr th:only-of-type {\n        vertical-align: middle;\n    }\n\n    .dataframe tbody tr th {\n        vertical-align: top;\n    }\n\n    .dataframe thead th {\n        text-align: right;\n    }\n</style>\n<table border=\"1\" class=\"dataframe\">\n  <thead>\n    <tr style=\"text-align: right;\">\n      <th></th>\n      <th>a</th>\n      <th>b</th>\n      <th>f1</th>\n      <th>f2</th>\n    </tr>\n  </thead>\n  <tbody>\n    <tr>\n      <th>0</th>\n      <td>0.186979</td>\n      <td>0.443815</td>\n      <td>0.630795</td>\n      <td>0.082984</td>\n    </tr>\n    <tr>\n      <th>1</th>\n      <td>0.623897</td>\n      <td>0.508347</td>\n      <td>1.132244</td>\n      <td>0.317156</td>\n    </tr>\n    <tr>\n      <th>2</th>\n      <td>0.339249</td>\n      <td>0.842154</td>\n      <td>1.181403</td>\n      <td>0.285700</td>\n    </tr>\n    <tr>\n      <th>3</th>\n      <td>0.381914</td>\n      <td>0.860903</td>\n      <td>1.242817</td>\n      <td>0.328791</td>\n    </tr>\n    <tr>\n      <th>4</th>\n      <td>0.888904</td>\n      <td>0.340132</td>\n      <td>1.229036</td>\n      <td>0.302345</td>\n    </tr>\n  </tbody>\n</table>\n</div>"
     },
     "metadata": {},
     "execution_count": 3
    }
   ],
   "source": [
    "data = np.random.rand(100,2)\n",
    "\n",
    "f1 = (data[:,0]+data[:,1]).reshape(-1,1)\n",
    "f2 = (data[:,0]*data[:,1]).reshape(-1,1)\n",
    "\n",
    "data = np.hstack((data, f1, f2))\n",
    "\n",
    "X = ['a','b']\n",
    "y = ['f1','f2']\n",
    "datapd = pd.DataFrame(data, columns=X+y)\n",
    "datapd.head()"
   ]
  },
  {
   "cell_type": "markdown",
   "metadata": {},
   "source": [
    "### Using VectorDataObjective class\n",
    "\n",
    "The `VectorDataObjective` class takes as its input the data in a dataframe format and the objective names in a list."
   ],
   "execution_count": null,
   "outputs": []
  },
  {
   "cell_type": "code",
   "execution_count": 4,
   "metadata": {},
   "outputs": [],
   "source": [
    "obj = VDO(data=datapd, name=y)"
   ]
  },
  {
   "cell_type": "markdown",
   "metadata": {},
   "source": [
    "### Training surrogate models\n",
    "\n",
    "Pass the surrogate modelling technique and the model parameters to the train method of the objective instance.\n",
    "\n",
    "If only one modelling technique is passed, the `model_parameters` should be a dict (or None) and this will be used for all the objectives.\n",
    "\n",
    "If multiple modelling techniques are passed, `models` should be the list of modelling techniques, and `model_parameters` should be a list of dicts. The length of these lists should be the same as the number of objectives and each list element will be used to train one objective in order."
   ],
   "execution_count": null,
   "outputs": []
  },
  {
   "cell_type": "code",
   "execution_count": 5,
   "metadata": {},
   "outputs": [],
   "source": [
    "obj.train(models=GaussianProcessRegressor, model_parameters={'kernel': Matern(nu=1.5)})"
   ]
  },
  {
   "cell_type": "markdown",
   "metadata": {},
   "source": [
    "### Using surrogate models to evaluate objective values\n",
    "\n",
    "Use the obj.evaluate method to get predictions. Note that `use_surrogates` should be true."
   ],
   "execution_count": null,
   "outputs": []
  },
  {
   "cell_type": "code",
   "execution_count": 6,
   "metadata": {},
   "outputs": [
    {
     "output_type": "stream",
     "name": "stdout",
     "text": "Objective Evaluation Results Object \nObjective values are: \n    f1        f2\n0  0.8  0.150002\nUncertainity values are: \n    f1        f2\n0  0.0  0.000845\n\n"
    }
   ],
   "source": [
    "print(obj.evaluate(np.asarray([[0.5,0.3]]), use_surrogate=True))"
   ]
  },
  {
   "cell_type": "code",
   "execution_count": 7,
   "metadata": {},
   "outputs": [
    {
     "output_type": "execute_result",
     "data": {
      "text/plain": "{'f1': True, 'f2': True}"
     },
     "metadata": {},
     "execution_count": 7
    }
   ],
   "source": [
    "obj._model_trained"
   ]
  },
  {
   "cell_type": "markdown",
   "metadata": {},
   "source": [
    "### Creating data problem class\n",
    "\n",
    "Creating the objective class should be bypassed for now, use `DataProblem` class directly with the data in a dataframe.\n",
    "\n",
    "The `DataProblem` provides a `train` method which trains all the objectives sequentially. The input arguments for this train method is the same as that of the `VectorDataObjective` class.\n",
    "\n",
    "To make sure that the `evaluate` method uses the surrogate models for evaluations, pass the `use_surrogate=True` argument."
   ],
   "execution_count": null,
   "outputs": []
  },
  {
   "cell_type": "code",
   "execution_count": 8,
   "metadata": {},
   "outputs": [],
   "source": [
    "from desdeo_problem.Problem import DataProblem"
   ]
  },
  {
   "cell_type": "code",
   "execution_count": 9,
   "metadata": {},
   "outputs": [],
   "source": [
    "prob = DataProblem(data=datapd, objective_names=y, variable_names=X)"
   ]
  },
  {
   "cell_type": "code",
   "execution_count": 10,
   "metadata": {},
   "outputs": [],
   "source": [
    "prob.train(GaussianProcessRegressor)"
   ]
  },
  {
   "cell_type": "code",
   "execution_count": 11,
   "metadata": {},
   "outputs": [
    {
     "output_type": "stream",
     "name": "stdout",
     "text": "Evaluation Results Object \nObjective values are: \n[[0.90000222 0.07999896]\n [0.79999987 0.1499993 ]]\nConstraint violation values are: \nNone\nFitness values are: \n[[0.90000222 0.07999896]\n [0.79999987 0.1499993 ]]\nUncertainity values are: \n[[0.00098456 0.00098456]\n [0.004962   0.004962  ]]\n\n"
    }
   ],
   "source": [
    "print(prob.evaluate(np.asarray([[0.1,0.8], [0.5,0.3]]), use_surrogate=True))"
   ]
  },
  {
   "cell_type": "markdown",
   "metadata": {},
   "source": [
    "## Lipschitian models"
   ],
   "execution_count": null,
   "outputs": []
  },
  {
   "cell_type": "code",
   "execution_count": 12,
   "metadata": {},
   "outputs": [],
   "source": [
    "from desdeo_problem.surrogatemodels.lipschitzian import LipschitzianRegressor"
   ]
  },
  {
   "cell_type": "code",
   "execution_count": 13,
   "metadata": {},
   "outputs": [],
   "source": [
    "prob = DataProblem(data=datapd, objective_names=y, variable_names=X)"
   ]
  },
  {
   "cell_type": "code",
   "execution_count": 14,
   "metadata": {},
   "outputs": [],
   "source": [
    "prob.train(LipschitzianRegressor)"
   ]
  },
  {
   "cell_type": "code",
   "execution_count": 15,
   "metadata": {},
   "outputs": [
    {
     "output_type": "stream",
     "name": "stdout",
     "text": "Evaluation Results Object \nObjective values are: \n[[0.9        0.09520284]\n [0.8        0.16391092]]\nConstraint violation values are: \nNone\nFitness values are: \n[[0.9        0.09520284]\n [0.8        0.16391092]]\nUncertainity values are: \n[[4.44089210e-16 4.10520276e-02]\n [4.44089210e-16 5.17472194e-02]]\n\n"
    }
   ],
   "source": [
    "print(prob.evaluate(np.asarray([[0.1,0.8], [0.5,0.3]]), use_surrogate=True))"
   ]
  },
  {
   "cell_type": "code",
   "execution_count": null,
   "metadata": {},
   "outputs": [],
   "source": []
  }
 ],
 "metadata": {
  "kernelspec": {
   "display_name": "desdeo-problem",
   "language": "python",
   "name": "desdeo-problem"
  },
  "language_info": {
   "codemirror_mode": {
    "name": "ipython",
    "version": 3
   },
   "file_extension": ".py",
   "mimetype": "text/x-python",
   "name": "python",
   "nbconvert_exporter": "python",
   "pygments_lexer": "ipython3",
   "version": "3.8.2-final"
  }
 },
 "nbformat": 4,
 "nbformat_minor": 2
}