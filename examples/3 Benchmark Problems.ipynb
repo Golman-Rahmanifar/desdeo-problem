{
 "cells": [
  {
   "cell_type": "markdown",
   "metadata": {},
   "source": [
    "# How to make and use the test problems"
   ],
   "execution_count": null,
   "outputs": []
  },
  {
   "cell_type": "markdown",
   "metadata": {},
   "source": [
    "Currently supported:\n",
    "* ZDT Problems- ZDT1-4, ZDT6\n",
    "* DTLZ Problems- DTLZ1-7"
   ],
   "execution_count": null,
   "outputs": []
  },
  {
   "cell_type": "markdown",
   "metadata": {},
   "source": [
    "Import the test problem  builder"
   ],
   "execution_count": null,
   "outputs": []
  },
  {
   "cell_type": "code",
   "execution_count": 1,
   "metadata": {},
   "outputs": [],
   "source": [
    "from desdeo_problem.testproblems.TestProblems import test_problem_builder"
   ]
  },
  {
   "cell_type": "markdown",
   "metadata": {},
   "source": [
    "Use `test_problem_builder` to build the necessary `MOProblem` instance, which can be used by methods in desdeo-emo and desdeo-mcdm to solve multiobjective optimization problems"
   ],
   "execution_count": null,
   "outputs": []
  },
  {
   "cell_type": "code",
   "execution_count": 2,
   "metadata": {},
   "outputs": [
    {
     "output_type": "stream",
     "name": "stdout",
     "text": "Help on function test_problem_builder in module desdeo_problem.testproblems.TestProblems:\n\ntest_problem_builder(name: str, n_of_variables: int = None, n_of_objectives: int = None) -> desdeo_problem.Problem.MOProblem\n    Build test problems. Currently supported: ZDT1-4, ZDT6, and DTLZ1-7.\n    \n    Args:\n        name (str): Name of the problem in all caps. For example: \"ZDT1\", \"DTLZ4\", etc.\n        n_of_variables (int, optional): Number of variables. Required for DTLZ problems,\n            but can be skipped for ZDT problems as they only support one variable value.\n        n_of_objectives (int, optional): Required for DTLZ problems,\n            but can be skipped for ZDT problems as they only support one variable value.\n    \n    Raises:\n        ProblemError: When one of many issues occur while building the MOProblem\n            instance.\n    \n    Returns:\n        MOProblem: The test problem object\n\n"
    }
   ],
   "source": [
    "help(test_problem_builder)"
   ]
  },
  {
   "cell_type": "code",
   "execution_count": 3,
   "metadata": {},
   "outputs": [
    {
     "output_type": "execute_result",
     "data": {
      "text/plain": "<desdeo_problem.Problem.MOProblem at 0x7f62391acdc0>"
     },
     "metadata": {},
     "execution_count": 3
    }
   ],
   "source": [
    "zdt1 = test_problem_builder(\"ZDT1\")\n",
    "zdt1"
   ]
  },
  {
   "cell_type": "code",
   "execution_count": 4,
   "metadata": {},
   "outputs": [
    {
     "output_type": "execute_result",
     "data": {
      "text/plain": "<desdeo_problem.Problem.MOProblem at 0x7f627c1e5940>"
     },
     "metadata": {},
     "execution_count": 4
    }
   ],
   "source": [
    "dtlz3 = test_problem_builder(\"DTLZ3\", n_of_objectives= 3, n_of_variables=20)\n",
    "dtlz3"
   ]
  },
  {
   "cell_type": "markdown",
   "metadata": {},
   "source": [
    "How to use these instances for other purposes, such as generating data:"
   ],
   "execution_count": null,
   "outputs": []
  },
  {
   "cell_type": "code",
   "execution_count": 5,
   "metadata": {},
   "outputs": [],
   "source": [
    "import numpy as np"
   ]
  },
  {
   "cell_type": "markdown",
   "metadata": {},
   "source": [
    "Generate input data as desired:"
   ],
   "execution_count": null,
   "outputs": []
  },
  {
   "cell_type": "code",
   "execution_count": 6,
   "metadata": {},
   "outputs": [
    {
     "output_type": "stream",
     "name": "stdout",
     "text": "[[0.84695393 0.92782403 0.18205698 0.43350639 0.54146466 0.50776209\n  0.2016438  0.85054673 0.42117149 0.95413935 0.55198809 0.99278655\n  0.13202902 0.0142355  0.4735073  0.42935878 0.0600739  0.71921896\n  0.91602401 0.85304888 0.49502122 0.10044449 0.09649092 0.90533568\n  0.71738154 0.59490417 0.76771872 0.68657852 0.61245666 0.39780767]\n [0.53857306 0.69825609 0.66675997 0.23770347 0.64049755 0.60368664\n  0.47296801 0.38829624 0.96186274 0.59311669 0.68121287 0.81952556\n  0.69148359 0.86386674 0.19585907 0.01703212 0.73490724 0.32616009\n  0.9336438  0.68724835 0.28244702 0.18274237 0.05173556 0.31474353\n  0.41067911 0.13460941 0.39198281 0.25005999 0.38149485 0.75725528]\n [0.25881892 0.51546495 0.77361987 0.11937132 0.9279952  0.74394341\n  0.45135289 0.91398598 0.79326038 0.0044679  0.83563452 0.16965023\n  0.23751351 0.46179244 0.93339183 0.195807   0.46708617 0.97412732\n  0.6309706  0.94170773 0.70918598 0.47330636 0.82757384 0.41305084\n  0.07261317 0.11448355 0.42011224 0.82715352 0.82545381 0.04182041]]\n"
    }
   ],
   "source": [
    "number_of_samples = 3\n",
    "zdt_data = np.random.random((number_of_samples, 30))  # 30 is the number of variables in the ZDT1 problem\n",
    "print(zdt_data)"
   ]
  },
  {
   "cell_type": "code",
   "execution_count": 7,
   "metadata": {},
   "outputs": [],
   "source": [
    "dtlz_data = np.random.random((number_of_samples, 20)) # We put the number of variables earlier as 20"
   ]
  },
  {
   "cell_type": "markdown",
   "metadata": {},
   "source": [
    "`<MOProblem object>.evaluate(data)` returns a tuple containing the objective values and constraint violations"
   ],
   "execution_count": null,
   "outputs": []
  },
  {
   "cell_type": "code",
   "execution_count": 8,
   "metadata": {},
   "outputs": [
    {
     "output_type": "execute_result",
     "data": {
      "text/plain": "EvaluationResults(objectives=array([[0.84695393, 3.60116365],\n       [0.53857306, 3.74536946],\n       [0.25881892, 4.67177314]]), fitness=array([[0.84695393, 3.60116365],\n       [0.53857306, 3.74536946],\n       [0.25881892, 4.67177314]]), constraints=None, uncertainity=array([[nan, nan],\n       [nan, nan],\n       [nan, nan]]))"
     },
     "metadata": {},
     "execution_count": 8
    }
   ],
   "source": [
    "zdt_obj_val = zdt1.evaluate(zdt_data)\n",
    "zdt_obj_val"
   ]
  },
  {
   "cell_type": "markdown",
   "metadata": {},
   "source": [
    "There are no constraints in the zdt or dtlz problems, hence cons_val is None"
   ],
   "execution_count": null,
   "outputs": []
  },
  {
   "cell_type": "code",
   "execution_count": 9,
   "metadata": {},
   "outputs": [
    {
     "output_type": "execute_result",
     "data": {
      "text/plain": "EvaluationResults(objectives=array([[ 691.10936442,  444.80645912, 1256.39493535],\n       [ 934.86824713,  446.91539716, 1984.77192839],\n       [ 438.87081551,  819.64409993, 1715.99253066]]), fitness=array([[ 691.10936442,  444.80645912, 1256.39493535],\n       [ 934.86824713,  446.91539716, 1984.77192839],\n       [ 438.87081551,  819.64409993, 1715.99253066]]), constraints=None, uncertainity=array([[nan, nan, nan],\n       [nan, nan, nan],\n       [nan, nan, nan]]))"
     },
     "metadata": {},
     "execution_count": 9
    }
   ],
   "source": [
    "dtlz_obj_val = dtlz3.evaluate(dtlz_data)\n",
    "dtlz_obj_val"
   ]
  }
 ],
 "metadata": {
  "kernelspec": {
   "display_name": "desdeo-problem",
   "language": "python",
   "name": "desdeo-problem"
  },
  "language_info": {
   "codemirror_mode": {
    "name": "ipython",
    "version": 3
   },
   "file_extension": ".py",
   "mimetype": "text/x-python",
   "name": "python",
   "nbconvert_exporter": "python",
   "pygments_lexer": "ipython3",
   "version": "3.8.2-final"
  }
 },
 "nbformat": 4,
 "nbformat_minor": 2
}