{
 "cells": [
  {
   "cell_type": "markdown",
   "metadata": {},
   "source": [
    "# How to make and use the test problems"
   ]
  },
  {
   "cell_type": "markdown",
   "metadata": {},
   "source": [
    "Currently supported:\n",
    "* ZDT Problems- ZDT1-4, ZDT6\n",
    "* DTLZ Problems- DTLZ1-7"
   ]
  },
  {
   "cell_type": "markdown",
   "metadata": {},
   "source": [
    "Import the test problem  builder"
   ]
  },
  {
   "cell_type": "code",
   "execution_count": 1,
   "metadata": {},
   "outputs": [],
   "source": [
    "from desdeo_problem.testproblems.TestProblems import test_problem_builder"
   ]
  },
  {
   "cell_type": "markdown",
   "metadata": {},
   "source": [
    "Use `test_problem_builder` to build the necessary `MOProblem` instance, which can be used by methods in desdeo-emo and desdeo-mcdm to solve multiobjective optimization problems"
   ]
  },
  {
   "cell_type": "code",
   "execution_count": 2,
   "metadata": {},
   "outputs": [
    {
     "name": "stdout",
     "output_type": "stream",
     "text": [
      "Help on function test_problem_builder in module desdeo_problem.testproblems.TestProblems:\n",
      "\n",
      "test_problem_builder(name: str, n_of_variables: int = None, n_of_objectives: int = None) -> desdeo_problem.Problem.MOProblem\n",
      "    Build test problems. Currently supported: ZDT1-4, ZDT6, and DTLZ1-7.\n",
      "    \n",
      "    Args:\n",
      "        name (str): Name of the problem in all caps. For example: \"ZDT1\", \"DTLZ4\", etc.\n",
      "        n_of_variables (int, optional): Number of variables. Required for DTLZ problems,\n",
      "            but can be skipped for ZDT problems as they only support one variable value.\n",
      "        n_of_objectives (int, optional): Required for DTLZ problems,\n",
      "            but can be skipped for ZDT problems as they only support one variable value.\n",
      "    \n",
      "    Raises:\n",
      "        ProblemError: When one of many issues occur while building the MOProblem\n",
      "            instance.\n",
      "    \n",
      "    Returns:\n",
      "        MOProblem: The test problem object\n",
      "\n"
     ]
    }
   ],
   "source": [
    "help(test_problem_builder)"
   ]
  },
  {
   "cell_type": "code",
   "execution_count": 3,
   "metadata": {},
   "outputs": [
    {
     "data": {
      "text/plain": [
       "<desdeo_problem.Problem.MOProblem at 0x7f08750dcc50>"
      ]
     },
     "execution_count": 3,
     "metadata": {},
     "output_type": "execute_result"
    }
   ],
   "source": [
    "zdt1 = test_problem_builder(\"ZDT1\")\n",
    "zdt1"
   ]
  },
  {
   "cell_type": "code",
   "execution_count": 4,
   "metadata": {},
   "outputs": [
    {
     "data": {
      "text/plain": [
       "<desdeo_problem.Problem.MOProblem at 0x7f08750dcc10>"
      ]
     },
     "execution_count": 4,
     "metadata": {},
     "output_type": "execute_result"
    }
   ],
   "source": [
    "dtlz3 = test_problem_builder(\"DTLZ3\", n_of_objectives= 3, n_of_variables=20)\n",
    "dtlz3"
   ]
  },
  {
   "cell_type": "markdown",
   "metadata": {},
   "source": [
    "How to use these instances for other purposes, such as generating data:"
   ]
  },
  {
   "cell_type": "code",
   "execution_count": 5,
   "metadata": {},
   "outputs": [],
   "source": [
    "import numpy as np"
   ]
  },
  {
   "cell_type": "markdown",
   "metadata": {},
   "source": [
    "Generate input data as desired:"
   ]
  },
  {
   "cell_type": "code",
   "execution_count": 6,
   "metadata": {},
   "outputs": [
    {
     "name": "stdout",
     "output_type": "stream",
     "text": [
      "[[0.87934038 0.86172491 0.97822022 0.18169675 0.96441422 0.82644601\n",
      "  0.39517067 0.35451594 0.38362731 0.24847124 0.52289136 0.48833478\n",
      "  0.69760665 0.94482771 0.726009   0.45793188 0.388275   0.02991105\n",
      "  0.44702599 0.49319569 0.99786787 0.47143508 0.74996073 0.09852531\n",
      "  0.84307803 0.0764324  0.62291221 0.89690932 0.05288167 0.44519295]\n",
      " [0.53091886 0.19777257 0.34744923 0.59424964 0.45586013 0.76065673\n",
      "  0.82188542 0.6081101  0.7968659  0.18347764 0.46453109 0.01711156\n",
      "  0.75330782 0.18907447 0.46139403 0.17977453 0.7580451  0.16661891\n",
      "  0.72677661 0.44881927 0.32464159 0.62858987 0.16606654 0.29288645\n",
      "  0.31369234 0.99801595 0.5880641  0.28699815 0.20506831 0.28356828]\n",
      " [0.88516786 0.39655175 0.34416785 0.80596253 0.98340629 0.62075102\n",
      "  0.1726113  0.12241915 0.43987508 0.48719023 0.77774974 0.22354174\n",
      "  0.82128387 0.54603985 0.45914771 0.95293774 0.12146975 0.06762478\n",
      "  0.45841002 0.0703392  0.03797797 0.71468038 0.196104   0.69033258\n",
      "  0.4269433  0.20146379 0.17249057 0.42975807 0.11667612 0.98228198]]\n"
     ]
    }
   ],
   "source": [
    "number_of_samples = 3\n",
    "zdt_data = np.random.random((number_of_samples, 30))  # 30 is the number of variables in the ZDT1 problem\n",
    "print(zdt_data)"
   ]
  },
  {
   "cell_type": "code",
   "execution_count": 7,
   "metadata": {},
   "outputs": [],
   "source": [
    "dtlz_data = np.random.random((number_of_samples, 20)) # We put the number of variables earlier as 20"
   ]
  },
  {
   "cell_type": "markdown",
   "metadata": {},
   "source": [
    "`<MOProblem object>.evaluate(data)` returns a tuple containing the objective values and constraint violations"
   ]
  },
  {
   "cell_type": "code",
   "execution_count": 8,
   "metadata": {},
   "outputs": [
    {
     "data": {
      "text/plain": [
       "EvaluationResults(objectives=array([[0.87934038, 3.58636211],\n",
       "       [0.53091886, 3.40461779],\n",
       "       [0.88516786, 2.8843002 ]]), fitness=array([[0.87934038, 3.58636211],\n",
       "       [0.53091886, 3.40461779],\n",
       "       [0.88516786, 2.8843002 ]]), constraints=None, uncertainity=array([[nan, nan],\n",
       "       [nan, nan],\n",
       "       [nan, nan]]))"
      ]
     },
     "execution_count": 8,
     "metadata": {},
     "output_type": "execute_result"
    }
   ],
   "source": [
    "zdt_obj_val = zdt1.evaluate(zdt_data)\n",
    "zdt_obj_val"
   ]
  },
  {
   "cell_type": "markdown",
   "metadata": {},
   "source": [
    "There are no constraints in the zdt or dtlz problems, hence cons_val is None"
   ]
  },
  {
   "cell_type": "code",
   "execution_count": 9,
   "metadata": {},
   "outputs": [
    {
     "data": {
      "text/plain": [
       "EvaluationResults(objectives=array([[1358.41007359, 1098.30348501,  395.52088945],\n",
       "       [ 242.15034648,  329.82125952, 1412.71115792],\n",
       "       [1176.88241324, 1190.40328767, 1307.65459606]]), fitness=array([[1358.41007359, 1098.30348501,  395.52088945],\n",
       "       [ 242.15034648,  329.82125952, 1412.71115792],\n",
       "       [1176.88241324, 1190.40328767, 1307.65459606]]), constraints=None, uncertainity=array([[nan, nan, nan],\n",
       "       [nan, nan, nan],\n",
       "       [nan, nan, nan]]))"
      ]
     },
     "execution_count": 9,
     "metadata": {},
     "output_type": "execute_result"
    }
   ],
   "source": [
    "dtlz_obj_val = dtlz3.evaluate(dtlz_data)\n",
    "dtlz_obj_val"
   ]
  }
 ],
 "metadata": {
  "kernelspec": {
   "display_name": "desdeo-problem",
   "language": "python",
   "name": "desdeo-problem"
  },
  "language_info": {
   "codemirror_mode": {
    "name": "ipython",
    "version": 3
   },
   "file_extension": ".py",
   "mimetype": "text/x-python",
   "name": "python",
   "nbconvert_exporter": "python",
   "pygments_lexer": "ipython3",
   "version": "3.7.5rc1"
  }
 },
 "nbformat": 4,
 "nbformat_minor": 2
}
