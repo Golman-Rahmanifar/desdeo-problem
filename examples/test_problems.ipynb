{
 "cells": [
  {
   "cell_type": "markdown",
   "metadata": {},
   "source": [
    "# How to make and use the test problems"
   ]
  },
  {
   "cell_type": "markdown",
   "metadata": {},
   "source": [
    "Currently supported:\n",
    "* ZDT Problems- ZDT1-4, ZDT6\n",
    "* DTLZ Problems- DTLZ1-7"
   ]
  },
  {
   "cell_type": "markdown",
   "metadata": {},
   "source": [
    "Import the test problem  builder"
   ]
  },
  {
   "cell_type": "code",
   "execution_count": 1,
   "metadata": {},
   "outputs": [],
   "source": [
    "from desdeo_problem.testproblems.TestProblems import test_problem_builder"
   ]
  },
  {
   "cell_type": "markdown",
   "metadata": {},
   "source": [
    "Use `test_problem_builder` to build the necessary `MOProblem` instance, which can be used by methods in desdeo-emo and desdeo-mcdm to solve multiobjective optimization problems"
   ]
  },
  {
   "cell_type": "code",
   "execution_count": 3,
   "metadata": {},
   "outputs": [
    {
     "name": "stdout",
     "output_type": "stream",
     "text": [
      "Help on function test_problem_builder in module desdeo_problem.testproblems.TestProblems:\n",
      "\n",
      "test_problem_builder(name: str, n_of_variables: int = None, n_of_objectives: int = None) -> desdeo_problem.Problem.MOProblem\n",
      "    Build test problems. Currently supported: ZDT1-4, ZDT6, and DTLZ1-7.\n",
      "    \n",
      "    Args:\n",
      "        name (str): Name of the problem in all caps. For example: \"ZDT1\", \"DTLZ4\", etc.\n",
      "        n_of_variables (int, optional): Number of variables. Required for DTLZ problems,\n",
      "            but can be skipped for ZDT problems as they only support one variable value.\n",
      "        n_of_objectives (int, optional): Required for DTLZ problems,\n",
      "            but can be skipped for ZDT problems as they only support one variable value.\n",
      "    \n",
      "    Raises:\n",
      "        ProblemError: When one of many issues occur while building the MOProblem\n",
      "            instance.\n",
      "    \n",
      "    Returns:\n",
      "        MOProblem: The test problem object\n",
      "\n"
     ]
    }
   ],
   "source": [
    "help(test_problem_builder)"
   ]
  },
  {
   "cell_type": "code",
   "execution_count": 8,
   "metadata": {},
   "outputs": [
    {
     "data": {
      "text/plain": [
       "<desdeo_problem.Problem.MOProblem at 0x7fe8b1f69be0>"
      ]
     },
     "execution_count": 8,
     "metadata": {},
     "output_type": "execute_result"
    }
   ],
   "source": [
    "zdt1 = test_problem_builder(\"ZDT1\")\n",
    "zdt1"
   ]
  },
  {
   "cell_type": "code",
   "execution_count": 7,
   "metadata": {},
   "outputs": [
    {
     "data": {
      "text/plain": [
       "<desdeo_problem.Problem.MOProblem at 0x7fe8b1f34908>"
      ]
     },
     "execution_count": 7,
     "metadata": {},
     "output_type": "execute_result"
    }
   ],
   "source": [
    "dtlz3 = test_problem_builder(\"DTLZ3\", n_of_objectives= 3, n_of_variables=20)\n",
    "dtlz3"
   ]
  },
  {
   "cell_type": "markdown",
   "metadata": {},
   "source": [
    "How to use these instances for other purposes, such as generating data:"
   ]
  },
  {
   "cell_type": "code",
   "execution_count": 9,
   "metadata": {},
   "outputs": [],
   "source": [
    "import numpy as np"
   ]
  },
  {
   "cell_type": "markdown",
   "metadata": {},
   "source": [
    "Generate input data as desired:"
   ]
  },
  {
   "cell_type": "code",
   "execution_count": 15,
   "metadata": {},
   "outputs": [
    {
     "name": "stdout",
     "output_type": "stream",
     "text": [
      "[[0.44366475 0.10325534 0.66710728 0.87376792 0.19282461 0.23093539\n",
      "  0.77369641 0.00452307 0.38192233 0.18728433 0.26580684 0.09871626\n",
      "  0.52499702 0.68237077 0.43256766 0.76781171 0.01912942 0.89005692\n",
      "  0.16216786 0.51625564 0.05771165 0.05301029 0.94517074 0.53170241\n",
      "  0.68312167 0.20775239 0.3991557  0.07905665 0.03503218 0.79085864]\n",
      " [0.27546377 0.87459058 0.42224156 0.01195531 0.0766615  0.32938535\n",
      "  0.36283475 0.27469977 0.36434313 0.40368097 0.77774713 0.52059394\n",
      "  0.13898121 0.20068768 0.68828841 0.36832851 0.84317476 0.21353392\n",
      "  0.96528773 0.70951284 0.01176298 0.43371047 0.77777477 0.81462316\n",
      "  0.04074462 0.10518189 0.77477892 0.5079083  0.13195938 0.72140787]\n",
      " [0.76043952 0.64608101 0.47123693 0.20509126 0.02965483 0.80091442\n",
      "  0.17102768 0.74227247 0.82892828 0.90428039 0.76373454 0.65935381\n",
      "  0.94826017 0.12234237 0.24977807 0.71021846 0.62957327 0.80688971\n",
      "  0.18397978 0.42790931 0.60292892 0.08301842 0.65009822 0.73096614\n",
      "  0.52391608 0.19944042 0.62730372 0.75592115 0.78568519 0.96928887]]\n"
     ]
    }
   ],
   "source": [
    "number_of_samples = 3\n",
    "zdt_data = np.random.random((number_of_samples, 30))  # 30 is the number of variables in the ZDT1 problem\n",
    "print(zdt_data)"
   ]
  },
  {
   "cell_type": "code",
   "execution_count": 16,
   "metadata": {},
   "outputs": [],
   "source": [
    "dtlz_data = np.random.random((number_of_samples, 20)) # We put the number of variables earlier as 20"
   ]
  },
  {
   "cell_type": "markdown",
   "metadata": {},
   "source": [
    "`<MOProblem object>.evaluate(data)` returns a tuple containing the objective values and constraint violations"
   ]
  },
  {
   "cell_type": "code",
   "execution_count": 19,
   "metadata": {},
   "outputs": [
    {
     "data": {
      "text/plain": [
       "array([[0.44366475, 3.16034449],\n",
       "       [0.27546377, 3.82024268],\n",
       "       [0.76043952, 3.89432987]])"
      ]
     },
     "execution_count": 19,
     "metadata": {},
     "output_type": "execute_result"
    }
   ],
   "source": [
    "zdt_obj_val, cons_val = zdt1.evaluate(zdt_data)\n",
    "zdt_obj_val"
   ]
  },
  {
   "cell_type": "markdown",
   "metadata": {},
   "source": [
    "There are no constraints in the zdt or dtlz problems, hence cons_val is None"
   ]
  },
  {
   "cell_type": "code",
   "execution_count": 21,
   "metadata": {},
   "outputs": [
    {
     "name": "stdout",
     "output_type": "stream",
     "text": [
      "None\n"
     ]
    }
   ],
   "source": [
    "print(cons_val)"
   ]
  },
  {
   "cell_type": "code",
   "execution_count": 22,
   "metadata": {},
   "outputs": [
    {
     "ename": "ValueError",
     "evalue": "operands could not be broadcast together with shapes (30,) (3,20) ",
     "output_type": "error",
     "traceback": [
      "\u001b[0;31m---------------------------------------------------------------------------\u001b[0m",
      "\u001b[0;31mValueError\u001b[0m                                Traceback (most recent call last)",
      "\u001b[0;32m<ipython-input-22-beb6b47f6ef5>\u001b[0m in \u001b[0;36m<module>\u001b[0;34m\u001b[0m\n\u001b[0;32m----> 1\u001b[0;31m \u001b[0mdtlz_obj_val\u001b[0m\u001b[0;34m,\u001b[0m \u001b[0m_\u001b[0m \u001b[0;34m=\u001b[0m \u001b[0mdtlz3\u001b[0m\u001b[0;34m.\u001b[0m\u001b[0mevaluate\u001b[0m\u001b[0;34m(\u001b[0m\u001b[0mdtlz_data\u001b[0m\u001b[0;34m)\u001b[0m\u001b[0;34m\u001b[0m\u001b[0;34m\u001b[0m\u001b[0m\n\u001b[0m",
      "\u001b[0;32m~/Projects/desdeo-problem/desdeo_problem/Problem.py\u001b[0m in \u001b[0;36mevaluate\u001b[0;34m(self, decision_vectors)\u001b[0m\n\u001b[1;32m    813\u001b[0m \u001b[0;34m\u001b[0m\u001b[0m\n\u001b[1;32m    814\u001b[0m         \u001b[0;31m# Checking bounds\u001b[0m\u001b[0;34m\u001b[0m\u001b[0;34m\u001b[0m\u001b[0;34m\u001b[0m\u001b[0m\n\u001b[0;32m--> 815\u001b[0;31m         \u001b[0;32mif\u001b[0m \u001b[0mnp\u001b[0m\u001b[0;34m.\u001b[0m\u001b[0many\u001b[0m\u001b[0;34m(\u001b[0m\u001b[0mself\u001b[0m\u001b[0;34m.\u001b[0m\u001b[0mget_variable_lower_bounds\u001b[0m\u001b[0;34m(\u001b[0m\u001b[0;34m)\u001b[0m \u001b[0;34m>\u001b[0m \u001b[0mdecision_vectors\u001b[0m\u001b[0;34m)\u001b[0m\u001b[0;34m:\u001b[0m\u001b[0;34m\u001b[0m\u001b[0;34m\u001b[0m\u001b[0m\n\u001b[0m\u001b[1;32m    816\u001b[0m             \u001b[0;32mraise\u001b[0m \u001b[0mValueError\u001b[0m\u001b[0;34m(\u001b[0m\u001b[0;34m\"Some decision variable values violate lower bounds\"\u001b[0m\u001b[0;34m)\u001b[0m\u001b[0;34m\u001b[0m\u001b[0;34m\u001b[0m\u001b[0m\n\u001b[1;32m    817\u001b[0m         \u001b[0;32mif\u001b[0m \u001b[0mnp\u001b[0m\u001b[0;34m.\u001b[0m\u001b[0many\u001b[0m\u001b[0;34m(\u001b[0m\u001b[0mself\u001b[0m\u001b[0;34m.\u001b[0m\u001b[0mget_variable_upper_bounds\u001b[0m\u001b[0;34m(\u001b[0m\u001b[0;34m)\u001b[0m \u001b[0;34m<\u001b[0m \u001b[0mdecision_vectors\u001b[0m\u001b[0;34m)\u001b[0m\u001b[0;34m:\u001b[0m\u001b[0;34m\u001b[0m\u001b[0;34m\u001b[0m\u001b[0m\n",
      "\u001b[0;31mValueError\u001b[0m: operands could not be broadcast together with shapes (30,) (3,20) "
     ]
    }
   ],
   "source": [
    "dtlz_obj_val, _ = dtlz3.evaluate(dtlz_data)\n",
    "dtlz_obj_val"
   ]
  },
  {
   "cell_type": "code",
   "execution_count": null,
   "metadata": {},
   "outputs": [],
   "source": []
  }
 ],
 "metadata": {
  "kernelspec": {
   "display_name": "desdeo_problem",
   "language": "python",
   "name": "desdeo_problem"
  },
  "language_info": {
   "codemirror_mode": {
    "name": "ipython",
    "version": 3
   },
   "file_extension": ".py",
   "mimetype": "text/x-python",
   "name": "python",
   "nbconvert_exporter": "python",
   "pygments_lexer": "ipython3",
   "version": "3.7.3"
  }
 },
 "nbformat": 4,
 "nbformat_minor": 2
}
