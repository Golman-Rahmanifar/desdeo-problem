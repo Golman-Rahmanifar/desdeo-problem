{
 "cells": [
  {
   "cell_type": "markdown",
   "metadata": {},
   "source": [
    "# Data Based Problems\n",
    "\n",
    "The DESDEO framework provides handling of data-driven optimization problems. Some methods, such as E-NAUTILUS in `desdeo-mcdm`, find the most preffered solution from a provided dataset. Other methods, such as most of the EA's from `desdeo-emo`, require a surrogate model to be trained for each of the objectives. The `desdeo_problem` provides support for both of these cases. \n",
    "\n",
    "For data based problems, use the data specific objective/problem classes"
   ]
  },
  {
   "cell_type": "code",
   "execution_count": 1,
   "metadata": {},
   "outputs": [],
   "source": [
    "import pandas as pd\n",
    "import numpy as np"
   ]
  },
  {
   "cell_type": "markdown",
   "metadata": {},
   "source": [
    "VectorDataObjective is an objective class that can handle data, as well as multi-objective evaluators.\n",
    "\n",
    "The GaussianProcessRegressor here is same as the one in scikit-learn with one small difference. The predict method has been replaced to return uncertainity values (in the form of standard deviation of the prediction) by default. It supports hyperparameters in the same format as the sklearn method."
   ]
  },
  {
   "cell_type": "code",
   "execution_count": 2,
   "metadata": {},
   "outputs": [],
   "source": [
    "from desdeo_problem.Objective import VectorDataObjective as VDO\n",
    "from desdeo_problem.surrogatemodels.SurrogateModels import GaussianProcessRegressor\n",
    "from sklearn.gaussian_process.kernels import Matern"
   ]
  },
  {
   "cell_type": "markdown",
   "metadata": {},
   "source": [
    "### Creating some random data\n",
    "\n",
    "'a' and 'b' are randomly generated between 0 and 1.\n",
    "\n",
    "f1 = a + b  \n",
    "f2 = a * b\n",
    "\n",
    "For data-driven problems, make sure that the input dataset is in the pandas DataFrame format, with the column names being the same as the variable/objective names."
   ]
  },
  {
   "cell_type": "code",
   "execution_count": 3,
   "metadata": {},
   "outputs": [
    {
     "data": {
      "text/html": [
       "<div>\n",
       "<style scoped>\n",
       "    .dataframe tbody tr th:only-of-type {\n",
       "        vertical-align: middle;\n",
       "    }\n",
       "\n",
       "    .dataframe tbody tr th {\n",
       "        vertical-align: top;\n",
       "    }\n",
       "\n",
       "    .dataframe thead th {\n",
       "        text-align: right;\n",
       "    }\n",
       "</style>\n",
       "<table border=\"1\" class=\"dataframe\">\n",
       "  <thead>\n",
       "    <tr style=\"text-align: right;\">\n",
       "      <th></th>\n",
       "      <th>a</th>\n",
       "      <th>b</th>\n",
       "      <th>f1</th>\n",
       "      <th>f2</th>\n",
       "    </tr>\n",
       "  </thead>\n",
       "  <tbody>\n",
       "    <tr>\n",
       "      <th>0</th>\n",
       "      <td>0.866445</td>\n",
       "      <td>0.492558</td>\n",
       "      <td>1.359003</td>\n",
       "      <td>0.426775</td>\n",
       "    </tr>\n",
       "    <tr>\n",
       "      <th>1</th>\n",
       "      <td>0.848106</td>\n",
       "      <td>0.476255</td>\n",
       "      <td>1.324360</td>\n",
       "      <td>0.403914</td>\n",
       "    </tr>\n",
       "    <tr>\n",
       "      <th>2</th>\n",
       "      <td>0.290107</td>\n",
       "      <td>0.533858</td>\n",
       "      <td>0.823966</td>\n",
       "      <td>0.154876</td>\n",
       "    </tr>\n",
       "    <tr>\n",
       "      <th>3</th>\n",
       "      <td>0.261330</td>\n",
       "      <td>0.317741</td>\n",
       "      <td>0.579072</td>\n",
       "      <td>0.083035</td>\n",
       "    </tr>\n",
       "    <tr>\n",
       "      <th>4</th>\n",
       "      <td>0.303202</td>\n",
       "      <td>0.813731</td>\n",
       "      <td>1.116932</td>\n",
       "      <td>0.246724</td>\n",
       "    </tr>\n",
       "  </tbody>\n",
       "</table>\n",
       "</div>"
      ],
      "text/plain": [
       "          a         b        f1        f2\n",
       "0  0.866445  0.492558  1.359003  0.426775\n",
       "1  0.848106  0.476255  1.324360  0.403914\n",
       "2  0.290107  0.533858  0.823966  0.154876\n",
       "3  0.261330  0.317741  0.579072  0.083035\n",
       "4  0.303202  0.813731  1.116932  0.246724"
      ]
     },
     "execution_count": 3,
     "metadata": {},
     "output_type": "execute_result"
    }
   ],
   "source": [
    "data = np.random.rand(100,2)\n",
    "\n",
    "f1 = (data[:,0]+data[:,1]).reshape(-1,1)\n",
    "f2 = (data[:,0]*data[:,1]).reshape(-1,1)\n",
    "\n",
    "data = np.hstack((data, f1, f2))\n",
    "\n",
    "X = ['a','b']\n",
    "y = ['f1','f2']\n",
    "datapd = pd.DataFrame(data, columns=X+y)\n",
    "datapd.head()"
   ]
  },
  {
   "cell_type": "markdown",
   "metadata": {},
   "source": [
    "### Using VectorDataObjective class\n",
    "\n",
    "The `VectorDataObjective` class takes as its input the data in a dataframe format and the objective names in a list."
   ]
  },
  {
   "cell_type": "code",
   "execution_count": 4,
   "metadata": {},
   "outputs": [],
   "source": [
    "obj = VDO(data=datapd, name=y)"
   ]
  },
  {
   "cell_type": "markdown",
   "metadata": {},
   "source": [
    "### Training surrogate models\n",
    "\n",
    "Pass the surrogate modelling technique and the model parameters to the train method of the objective instance.\n",
    "\n",
    "If only one modelling technique is passed, the `model_parameters` should be a dict (or None) and this will be used for all the objectives.\n",
    "\n",
    "If multiple modelling techniques are passed, `models` should be the list of modelling techniques, and `model_parameters` should be a list of dicts. The length of these lists should be the same as the number of objectives and each list element will be used to train one objective in order."
   ]
  },
  {
   "cell_type": "code",
   "execution_count": 5,
   "metadata": {},
   "outputs": [],
   "source": [
    "obj.train(models=GaussianProcessRegressor, model_parameters={'kernel': Matern(nu=1.5)})"
   ]
  },
  {
   "cell_type": "markdown",
   "metadata": {},
   "source": [
    "### Using surrogate models to evaluate objective values\n",
    "\n",
    "Use the obj.evaluate method to get predictions. Note that `use_surrogates` should be true."
   ]
  },
  {
   "cell_type": "code",
   "execution_count": 6,
   "metadata": {},
   "outputs": [
    {
     "name": "stdout",
     "output_type": "stream",
     "text": [
      "Objective Evaluation Results Object \n",
      "Objective values are: \n",
      "         f1        f2\n",
      "0  0.799997  0.150003\n",
      "Uncertainity values are: \n",
      "         f1       f2\n",
      "0  0.000363  0.00056\n",
      "\n"
     ]
    }
   ],
   "source": [
    "print(obj.evaluate(np.asarray([[0.5,0.3]]), use_surrogate=True))"
   ]
  },
  {
   "cell_type": "code",
   "execution_count": 7,
   "metadata": {},
   "outputs": [
    {
     "data": {
      "text/plain": [
       "{'f1': True, 'f2': True}"
      ]
     },
     "execution_count": 7,
     "metadata": {},
     "output_type": "execute_result"
    }
   ],
   "source": [
    "obj._model_trained"
   ]
  },
  {
   "cell_type": "markdown",
   "metadata": {},
   "source": [
    "### Creating data problem class\n",
    "\n",
    "Creating the objective class should be bypassed for now, use `DataProblem` class directly with the data in a dataframe.\n",
    "\n",
    "The `DataProblem` provides a `train` method which trains all the objectives sequentially. The input arguments for this train method is the same as that of the `VectorDataObjective` class.\n",
    "\n",
    "To make sure that the `evaluate` method uses the surrogate models for evaluations, pass the `use_surrogate=True` argument."
   ]
  },
  {
   "cell_type": "code",
   "execution_count": 8,
   "metadata": {},
   "outputs": [],
   "source": [
    "from desdeo_problem.Problem import DataProblem"
   ]
  },
  {
   "cell_type": "code",
   "execution_count": 9,
   "metadata": {},
   "outputs": [],
   "source": [
    "maximize = pd.DataFrame([[True, False]], columns=['f1','f2'])\n",
    "prob = DataProblem(data=datapd, objective_names=y, variable_names=X, maximize=maximize)"
   ]
  },
  {
   "cell_type": "code",
   "execution_count": 10,
   "metadata": {},
   "outputs": [],
   "source": [
    "prob.train(GaussianProcessRegressor)"
   ]
  },
  {
   "cell_type": "code",
   "execution_count": 11,
   "metadata": {},
   "outputs": [
    {
     "name": "stdout",
     "output_type": "stream",
     "text": [
      "Evaluation Results Object \n",
      "Objective values are: \n",
      "[[0.89999818 0.07999432]\n",
      " [0.80000079 0.15000032]]\n",
      "Constraint violation values are: \n",
      "None\n",
      "Fitness values are: \n",
      "[[-0.89999818  0.07999432]\n",
      " [-0.80000079  0.15000032]]\n",
      "Uncertainity values are: \n",
      "[[0. 0.]\n",
      " [0. 0.]]\n",
      "\n"
     ]
    },
    {
     "name": "stderr",
     "output_type": "stream",
     "text": [
      "/home/rishi/.virtualenvs/desdeo-problem/lib/python3.7/site-packages/sklearn/gaussian_process/gpr.py:346: UserWarning: Predicted variances smaller than 0. Setting those variances to 0.\n",
      "  warnings.warn(\"Predicted variances smaller than 0. \"\n",
      "/home/rishi/.virtualenvs/desdeo-problem/lib/python3.7/site-packages/sklearn/gaussian_process/gpr.py:346: UserWarning: Predicted variances smaller than 0. Setting those variances to 0.\n",
      "  warnings.warn(\"Predicted variances smaller than 0. \"\n"
     ]
    }
   ],
   "source": [
    "print(prob.evaluate(np.asarray([[0.1,0.8], [0.5,0.3]]), use_surrogate=True))"
   ]
  },
  {
   "cell_type": "markdown",
   "metadata": {},
   "source": [
    "## Lipschitian models"
   ]
  },
  {
   "cell_type": "code",
   "execution_count": 12,
   "metadata": {},
   "outputs": [],
   "source": [
    "from desdeo_problem.surrogatemodels.lipschitzian import LipschitzianRegressor"
   ]
  },
  {
   "cell_type": "code",
   "execution_count": 13,
   "metadata": {},
   "outputs": [],
   "source": [
    "prob = DataProblem(data=datapd, objective_names=y, variable_names=X)"
   ]
  },
  {
   "cell_type": "code",
   "execution_count": 14,
   "metadata": {},
   "outputs": [],
   "source": [
    "prob.train(LipschitzianRegressor)"
   ]
  },
  {
   "cell_type": "code",
   "execution_count": 15,
   "metadata": {},
   "outputs": [
    {
     "name": "stdout",
     "output_type": "stream",
     "text": [
      "Evaluation Results Object \n",
      "Objective values are: \n",
      "[[0.9        0.0654458 ]\n",
      " [0.8        0.13795083]]\n",
      "Constraint violation values are: \n",
      "None\n",
      "Fitness values are: \n",
      "[[0.9        0.0654458 ]\n",
      " [0.8        0.13795083]]\n",
      "Uncertainity values are: \n",
      "[[1.88737914e-15 3.16508168e-02]\n",
      " [6.66133815e-16 3.69551016e-02]]\n",
      "\n"
     ]
    }
   ],
   "source": [
    "print(prob.evaluate(np.asarray([[0.1,0.8], [0.5,0.3]]), use_surrogate=True))"
   ]
  }
 ],
 "metadata": {
  "kernelspec": {
   "display_name": "desdeo-problem",
   "language": "python",
   "name": "desdeo-problem"
  },
  "language_info": {
   "codemirror_mode": {
    "name": "ipython",
    "version": 3
   },
   "file_extension": ".py",
   "mimetype": "text/x-python",
   "name": "python",
   "nbconvert_exporter": "python",
   "pygments_lexer": "ipython3",
   "version": "3.7.5rc1"
  }
 },
 "nbformat": 4,
 "nbformat_minor": 2
}
