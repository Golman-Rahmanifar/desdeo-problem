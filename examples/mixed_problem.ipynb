{
 "cells": [
  {
   "cell_type": "markdown",
   "metadata": {},
   "source": [
    "# Mixed Type Problem\n",
    "This is currently the most versatile way to define problems. \n",
    "Let's say that we have the following minimization problem:\n",
    "\n",
    "\\begin{equation}\n",
    "\\begin{aligned}\n",
    "& \\underset{\\mathbf x}{\\text{min}}\n",
    "& & y_1, y_2, y_3\\\\\n",
    "& & & y_1 = x_1 + x_2 + x_3 \\\\\n",
    "& & & y_2 = x_1 * x_2 * x_3  \\\\\n",
    "& & & y_3 = x_1 * x_2 + x_3 \\\\\n",
    "& \\text{s.t.} & &  -2 \\leq x_1 \\leq 5 \\\\\n",
    "& & &  -1 \\leq  x_2 \\leq 10 \\\\\n",
    "& & &  -0 \\leq x_3 \\leq 3 \\\\\n",
    "& & &  x_1 + x_2 + x_3 \\leq 10 \\\\\n",
    "& & &  \\mathbf{x} \\; \\in S, \\\\\n",
    "\\end{aligned}\n",
    "\\end{equation}\n"
   ]
  },
  {
   "cell_type": "markdown",
   "metadata": {},
   "source": [
    "Import the necessary classes.\n",
    "\n",
    "variable_builder: Enables you to define multiple variables at once.\n",
    "\n",
    "ScalarObjective: Enables you to define objectives **1** objective at a time.\n",
    "\n",
    "VectorObjective: Enables you to define multiple objectives at once. This is useful if the source of the objective value evaluator returns multiple objectives at once.\n",
    "\n",
    "ScalarConstraint: Enables you to define constraints **1** constraint at a time.\n",
    "\n",
    "MOProblem: Takes as its input: \n",
    "1. A list of variables (returned by variable_builder)\n",
    "2. A list of (one or more of) ScalarObjective and/or VectorObjective instances\n",
    "3. A list of ScalarConstraint instances\n",
    "\n",
    "And creates a multiobjective problem class that can be used by the rest of the desdeo methods (present in desdeo-mcdm and desdeo-emo)"
   ]
  },
  {
   "cell_type": "code",
   "execution_count": 1,
   "metadata": {},
   "outputs": [],
   "source": [
    "from desdeo_problem.Objective import ScalarObjective, VectorObjective\n",
    "from desdeo_problem.Problem import MOProblem\n",
    "from desdeo_problem.Variable import variable_builder\n",
    "from desdeo_problem.Constraint import ScalarConstraint\n",
    "import numpy as np\n",
    "from pprint import pprint"
   ]
  },
  {
   "cell_type": "markdown",
   "metadata": {},
   "source": [
    "Define the variables. To do this, you need to give a list of variable names, list of the initial values for those variables, list of lower bounds, and a list of upper bounds."
   ]
  },
  {
   "cell_type": "code",
   "execution_count": 2,
   "metadata": {},
   "outputs": [
    {
     "name": "stdout",
     "output_type": "stream",
     "text": [
      "Type of \"variables\":  <class 'list'>\n",
      "Length of \"variables\":  3\n",
      "Type of the contents of \"variables\":  <class 'desdeo_problem.Variable.Variable'>\n"
     ]
    }
   ],
   "source": [
    "var_names = [\"a\", \"b\", \"c\"]\n",
    "initial_values = [1, 1, 1]\n",
    "lower_bounds = [-2, -1, 0]\n",
    "upper_bounds = [5, 10, 3]\n",
    "variables = variable_builder(var_names, initial_values, lower_bounds, upper_bounds)\n",
    "print(\"Type of \\\"variables\\\": \", type(variables))\n",
    "print(\"Length of \\\"variables\\\": \", len(variables))\n",
    "print(\"Type of the contents of \\\"variables\\\": \", type(variables[0]))"
   ]
  },
  {
   "cell_type": "markdown",
   "metadata": {},
   "source": [
    "Define the evaluators for the objectives. These evaluators should be python functions that take in the decision variable values and give out the objective value/s. The arguments of these evaluators are 2-D Numpy arrays."
   ]
  },
  {
   "cell_type": "code",
   "execution_count": 3,
   "metadata": {},
   "outputs": [],
   "source": [
    "def obj1_2(x):\n",
    "    y1 = x[:, 0] + x[:, 1] + x[:, 2]\n",
    "    y2 = x[:, 0] * x[:, 1] * x[:, 2]\n",
    "    return (y1, y2)\n",
    "\n",
    "\n",
    "def obj3(x):\n",
    "    y3 = x[:, 0] * x[:, 1] + x[:, 2]\n",
    "    return y3"
   ]
  },
  {
   "cell_type": "markdown",
   "metadata": {},
   "source": [
    "Define the objectives. For this, you need the names of the objectives, and the evaluators defined above. If an evaluator returns multiple objective values, use the `VectorObjective` class to define those objectives. If an evaluator returns objective values for only one objective, either `VectorObjective` or `ScalarObjective` can be used.\n",
    "\n",
    "If using `VectorObjective`, names should be provided in a list.\n",
    "\n",
    "Additionaly, bounds of the objective values can also be provided."
   ]
  },
  {
   "cell_type": "code",
   "execution_count": 4,
   "metadata": {},
   "outputs": [],
   "source": [
    "f1_2 = VectorObjective([\"y1\", \"y2\"], obj1_2)\n",
    "f3 = ScalarObjective(\"f3\", obj3)"
   ]
  },
  {
   "cell_type": "markdown",
   "metadata": {},
   "source": [
    "Define the constraints. Constraint may depend on objective function as well (second argument to the lambda, notice the underscore). In that case, the objectives should not be defined inline, like above, but as their own function definitions. The constraint should be defined so, that when evaluated, it should return a positive value, if the constraint is adhered to, and a negative, if the constraint is breached."
   ]
  },
  {
   "cell_type": "code",
   "execution_count": 5,
   "metadata": {},
   "outputs": [],
   "source": [
    "# Args: name, number of variables, number of objectives, callable\n",
    "cons1 = ScalarConstraint(\"c_1\", 3, 3, lambda x, _: 10 - (x[:, 0] + x[:, 1] + x[:, 2]))"
   ]
  },
  {
   "cell_type": "markdown",
   "metadata": {},
   "source": [
    "Now, we can create the problem object.\n",
    "Provide objectives, variables and constraints in lists."
   ]
  },
  {
   "cell_type": "code",
   "execution_count": 6,
   "metadata": {},
   "outputs": [],
   "source": [
    "prob = MOProblem(objectives=[f1_2, f3], variables=variables, constraints=[cons1])"
   ]
  },
  {
   "cell_type": "markdown",
   "metadata": {},
   "source": [
    "The objectives and constraint values can now be evaluated using the `<problem instance>.evaluate` method.\n",
    "\n",
    "Decision variable data can be provided as a 2-d array or as a tuple/list of arrays.\n",
    "\n",
    "The output is a tuple. The first element contains the objective values, the second element contains the constraint violation values.\n",
    "\n",
    "**Note**: Input as list of lists is not supported"
   ]
  },
  {
   "cell_type": "code",
   "execution_count": 7,
   "metadata": {},
   "outputs": [],
   "source": [
    "data = np.asarray([[1, -1, 0], [5, 5, 2]])\n",
    "res= prob.evaluate(data)"
   ]
  },
  {
   "cell_type": "code",
   "execution_count": 8,
   "metadata": {},
   "outputs": [
    {
     "name": "stdout",
     "output_type": "stream",
     "text": [
      "Evaluation Results Object \n",
      "Objective values are: \n",
      "[[ 0. 12. -1.]\n",
      " [ 0. 50. 27.]]\n",
      "Constraint violation values are: \n",
      "[[10.]\n",
      " [-2.]]\n",
      "Fitness values are: \n",
      "[[ 0. 12. -1.]\n",
      " [ 0. 50. 27.]]\n",
      "Uncertainity values are: \n",
      "[[nan nan nan]\n",
      " [nan nan nan]]\n",
      "\n"
     ]
    }
   ],
   "source": [
    "print(res)"
   ]
  },
  {
   "cell_type": "code",
   "execution_count": 9,
   "metadata": {},
   "outputs": [
    {
     "name": "stdout",
     "output_type": "stream",
     "text": [
      "The objective values for the given set of decision variables are: \n",
      " [[ 0. 12. -1.]\n",
      " [ 0. 50. 27.]]\n",
      "The constraint violation for the given set of decision variables are:\n",
      " [[10.]\n",
      " [-2.]]\n"
     ]
    }
   ],
   "source": [
    "print(\"The objective values for the given set of decision variables are: \\n\", res.objectives)\n",
    "print(\"The constraint violation for the given set of decision variables are:\\n\", res.constraints)"
   ]
  },
  {
   "cell_type": "code",
   "execution_count": 10,
   "metadata": {},
   "outputs": [
    {
     "data": {
      "text/plain": [
       "EvaluationResults(objectives=array([[ 0., 12., -1.],\n",
       "       [ 0., 50., 27.]]), fitness=array([[ 0., 12., -1.],\n",
       "       [ 0., 50., 27.]]), constraints=array([[10.],\n",
       "       [-2.]]), uncertainity=array([[nan, nan, nan],\n",
       "       [nan, nan, nan]]))"
      ]
     },
     "execution_count": 10,
     "metadata": {},
     "output_type": "execute_result"
    }
   ],
   "source": [
    "res"
   ]
  },
  {
   "cell_type": "code",
   "execution_count": null,
   "metadata": {},
   "outputs": [],
   "source": []
  }
 ],
 "metadata": {
  "kernelspec": {
   "display_name": "desdeo-problem",
   "language": "python",
   "name": "desdeo-problem"
  },
  "language_info": {
   "codemirror_mode": {
    "name": "ipython",
    "version": 3
   },
   "file_extension": ".py",
   "mimetype": "text/x-python",
   "name": "python",
   "nbconvert_exporter": "python",
   "pygments_lexer": "ipython3",
   "version": "3.7.5rc1"
  }
 },
 "nbformat": 4,
 "nbformat_minor": 2
}
