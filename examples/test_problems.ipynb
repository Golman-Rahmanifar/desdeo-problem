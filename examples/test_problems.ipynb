{
 "cells": [
  {
   "cell_type": "markdown",
   "metadata": {},
   "source": [
    "# How to make and use the test problems"
   ]
  },
  {
   "cell_type": "markdown",
   "metadata": {},
   "source": [
    "Currently supported:\n",
    "* ZDT Problems- ZDT1-4, ZDT6\n",
    "* DTLZ Problems- DTLZ1-7"
   ]
  },
  {
   "cell_type": "markdown",
   "metadata": {},
   "source": [
    "Import the test problem  builder"
   ]
  },
  {
   "cell_type": "code",
   "execution_count": 1,
   "metadata": {},
   "outputs": [],
   "source": [
    "from desdeo_problem.testproblems.TestProblems import test_problem_builder"
   ]
  },
  {
   "cell_type": "markdown",
   "metadata": {},
   "source": [
    "Use `test_problem_builder` to build the necessary `MOProblem` instance, which can be used by methods in desdeo-emo and desdeo-mcdm to solve multiobjective optimization problems"
   ]
  },
  {
   "cell_type": "code",
   "execution_count": 2,
   "metadata": {},
   "outputs": [
    {
     "name": "stdout",
     "output_type": "stream",
     "text": [
      "Help on function test_problem_builder in module desdeo_problem.testproblems.TestProblems:\n",
      "\n",
      "test_problem_builder(name: str, n_of_variables: int = None, n_of_objectives: int = None) -> desdeo_problem.Problem.MOProblem\n",
      "    Build test problems. Currently supported: ZDT1-4, ZDT6, and DTLZ1-7.\n",
      "    \n",
      "    Args:\n",
      "        name (str): Name of the problem in all caps. For example: \"ZDT1\", \"DTLZ4\", etc.\n",
      "        n_of_variables (int, optional): Number of variables. Required for DTLZ problems,\n",
      "            but can be skipped for ZDT problems as they only support one variable value.\n",
      "        n_of_objectives (int, optional): Required for DTLZ problems,\n",
      "            but can be skipped for ZDT problems as they only support one variable value.\n",
      "    \n",
      "    Raises:\n",
      "        ProblemError: When one of many issues occur while building the MOProblem\n",
      "            instance.\n",
      "    \n",
      "    Returns:\n",
      "        MOProblem: The test problem object\n",
      "\n"
     ]
    }
   ],
   "source": [
    "help(test_problem_builder)"
   ]
  },
  {
   "cell_type": "code",
   "execution_count": 3,
   "metadata": {},
   "outputs": [
    {
     "data": {
      "text/plain": [
       "<desdeo_problem.Problem.MOProblem at 0x7f368588ba90>"
      ]
     },
     "execution_count": 3,
     "metadata": {},
     "output_type": "execute_result"
    }
   ],
   "source": [
    "zdt1 = test_problem_builder(\"ZDT1\")\n",
    "zdt1"
   ]
  },
  {
   "cell_type": "code",
   "execution_count": 4,
   "metadata": {},
   "outputs": [
    {
     "data": {
      "text/plain": [
       "<desdeo_problem.Problem.MOProblem at 0x7f36888c4da0>"
      ]
     },
     "execution_count": 4,
     "metadata": {},
     "output_type": "execute_result"
    }
   ],
   "source": [
    "dtlz3 = test_problem_builder(\"DTLZ3\", n_of_objectives= 3, n_of_variables=20)\n",
    "dtlz3"
   ]
  },
  {
   "cell_type": "markdown",
   "metadata": {},
   "source": [
    "How to use these instances for other purposes, such as generating data:"
   ]
  },
  {
   "cell_type": "code",
   "execution_count": 5,
   "metadata": {},
   "outputs": [],
   "source": [
    "import numpy as np"
   ]
  },
  {
   "cell_type": "markdown",
   "metadata": {},
   "source": [
    "Generate input data as desired:"
   ]
  },
  {
   "cell_type": "code",
   "execution_count": 6,
   "metadata": {},
   "outputs": [
    {
     "name": "stdout",
     "output_type": "stream",
     "text": [
      "[[0.59173603 0.38872039 0.24804592 0.11940861 0.36668565 0.39252567\n",
      "  0.1812382  0.95328463 0.01020182 0.1991285  0.52723526 0.64707644\n",
      "  0.03538675 0.01748449 0.40804752 0.26700477 0.38273192 0.53466235\n",
      "  0.5227101  0.83214209 0.62452627 0.29550457 0.57260046 0.0603214\n",
      "  0.21071392 0.91647729 0.86310553 0.36557705 0.37625015 0.48854881]\n",
      " [0.51433207 0.3957686  0.43390742 0.85873223 0.07049208 0.12075209\n",
      "  0.68350756 0.63820177 0.68201461 0.62983644 0.35145313 0.73327786\n",
      "  0.28672323 0.43584607 0.98543245 0.58215102 0.89114077 0.81116914\n",
      "  0.021076   0.36162319 0.82775525 0.23677209 0.47892017 0.2105281\n",
      "  0.45755279 0.98488333 0.60635287 0.96588631 0.35599879 0.90748819]\n",
      " [0.57601268 0.91157903 0.44452302 0.18440711 0.54309369 0.61843893\n",
      "  0.4140443  0.2571796  0.73737545 0.66728626 0.6430336  0.54419858\n",
      "  0.79785043 0.41693147 0.76520167 0.91791084 0.25452406 0.11348536\n",
      "  0.84640308 0.40824133 0.73808667 0.00430994 0.78027761 0.60090472\n",
      "  0.62952245 0.91053047 0.29061477 0.44275039 0.76964359 0.44523899]]\n"
     ]
    }
   ],
   "source": [
    "number_of_samples = 3\n",
    "zdt_data = np.random.random((number_of_samples, 30))  # 30 is the number of variables in the ZDT1 problem\n",
    "print(zdt_data)"
   ]
  },
  {
   "cell_type": "code",
   "execution_count": 7,
   "metadata": {},
   "outputs": [],
   "source": [
    "dtlz_data = np.random.random((number_of_samples, 20)) # We put the number of variables earlier as 20"
   ]
  },
  {
   "cell_type": "markdown",
   "metadata": {},
   "source": [
    "`<MOProblem object>.evaluate(data)` returns a tuple containing the objective values and constraint violations"
   ]
  },
  {
   "cell_type": "code",
   "execution_count": 8,
   "metadata": {},
   "outputs": [
    {
     "data": {
      "text/plain": [
       "EvaluationResults(objectives=array([[0.59173603, 3.0030051 ],\n",
       "       [0.51433207, 4.21526162],\n",
       "       [0.57601268, 4.13740084]]), fitness=array([[0.59173603, 3.0030051 ],\n",
       "       [0.51433207, 4.21526162],\n",
       "       [0.57601268, 4.13740084]]), constraints=None, uncertainity=array([[nan, nan],\n",
       "       [nan, nan],\n",
       "       [nan, nan]]))"
      ]
     },
     "execution_count": 8,
     "metadata": {},
     "output_type": "execute_result"
    }
   ],
   "source": [
    "zdt_obj_val = zdt1.evaluate(zdt_data)\n",
    "zdt_obj_val"
   ]
  },
  {
   "cell_type": "markdown",
   "metadata": {},
   "source": [
    "There are no constraints in the zdt or dtlz problems, hence cons_val is None"
   ]
  },
  {
   "cell_type": "code",
   "execution_count": 9,
   "metadata": {},
   "outputs": [
    {
     "data": {
      "text/plain": [
       "EvaluationResults(objectives=array([[ 257.07066338,  164.21925398, 2127.91803123],\n",
       "       [1189.97075229,  910.957517  , 1350.07910947],\n",
       "       [ 251.31786241,  607.20178625, 1745.29006921]]), fitness=array([[ 257.07066338,  164.21925398, 2127.91803123],\n",
       "       [1189.97075229,  910.957517  , 1350.07910947],\n",
       "       [ 251.31786241,  607.20178625, 1745.29006921]]), constraints=None, uncertainity=array([[nan, nan, nan],\n",
       "       [nan, nan, nan],\n",
       "       [nan, nan, nan]]))"
      ]
     },
     "execution_count": 9,
     "metadata": {},
     "output_type": "execute_result"
    }
   ],
   "source": [
    "dtlz_obj_val = dtlz3.evaluate(dtlz_data)\n",
    "dtlz_obj_val"
   ]
  }
 ],
 "metadata": {
  "kernelspec": {
   "display_name": "desdeo-problem",
   "language": "python",
   "name": "desdeo-problem"
  },
  "language_info": {
   "codemirror_mode": {
    "name": "ipython",
    "version": 3
   },
   "file_extension": ".py",
   "mimetype": "text/x-python",
   "name": "python",
   "nbconvert_exporter": "python",
   "pygments_lexer": "ipython3",
   "version": "3.7.3"
  }
 },
 "nbformat": 4,
 "nbformat_minor": 2
}
