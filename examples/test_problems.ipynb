{
 "cells": [
  {
   "cell_type": "markdown",
   "metadata": {},
   "source": [
    "# How to make and use the test problems"
   ]
  },
  {
   "cell_type": "markdown",
   "metadata": {},
   "source": [
    "Currently supported:\n",
    "* ZDT Problems- ZDT1-4, ZDT6\n",
    "* DTLZ Problems- DTLZ1-7"
   ]
  },
  {
   "cell_type": "markdown",
   "metadata": {},
   "source": [
    "Import the test problem  builder"
   ]
  },
  {
   "cell_type": "code",
   "execution_count": 1,
   "metadata": {},
   "outputs": [],
   "source": [
    "from desdeo_problem.testproblems.TestProblems import test_problem_builder"
   ]
  },
  {
   "cell_type": "markdown",
   "metadata": {},
   "source": [
    "Use `test_problem_builder` to build the necessary `MOProblem` instance, which can be used by methods in desdeo-emo and desdeo-mcdm to solve multiobjective optimization problems"
   ]
  },
  {
   "cell_type": "code",
   "execution_count": 2,
   "metadata": {},
   "outputs": [
    {
     "name": "stdout",
     "output_type": "stream",
     "text": [
      "Help on function test_problem_builder in module desdeo_problem.testproblems.TestProblems:\n",
      "\n",
      "test_problem_builder(name: str, n_of_variables: int = None, n_of_objectives: int = None) -> desdeo_problem.Problem.MOProblem\n",
      "    Build test problems. Currently supported: ZDT1-4, ZDT6, and DTLZ1-7.\n",
      "    \n",
      "    Args:\n",
      "        name (str): Name of the problem in all caps. For example: \"ZDT1\", \"DTLZ4\", etc.\n",
      "        n_of_variables (int, optional): Number of variables. Required for DTLZ problems,\n",
      "            but can be skipped for ZDT problems as they only support one variable value.\n",
      "        n_of_objectives (int, optional): Required for DTLZ problems,\n",
      "            but can be skipped for ZDT problems as they only support one variable value.\n",
      "    \n",
      "    Raises:\n",
      "        ProblemError: When one of many issues occur while building the MOProblem\n",
      "            instance.\n",
      "    \n",
      "    Returns:\n",
      "        MOProblem: The test problem object\n",
      "\n"
     ]
    }
   ],
   "source": [
    "help(test_problem_builder)"
   ]
  },
  {
   "cell_type": "code",
   "execution_count": 3,
   "metadata": {},
   "outputs": [
    {
     "data": {
      "text/plain": [
       "<desdeo_problem.Problem.MOProblem at 0x7fa94f89dfd0>"
      ]
     },
     "execution_count": 3,
     "metadata": {},
     "output_type": "execute_result"
    }
   ],
   "source": [
    "zdt1 = test_problem_builder(\"ZDT1\")\n",
    "zdt1"
   ]
  },
  {
   "cell_type": "code",
   "execution_count": 4,
   "metadata": {},
   "outputs": [
    {
     "data": {
      "text/plain": [
       "<desdeo_problem.Problem.MOProblem at 0x7fa94f8fb438>"
      ]
     },
     "execution_count": 4,
     "metadata": {},
     "output_type": "execute_result"
    }
   ],
   "source": [
    "dtlz3 = test_problem_builder(\"DTLZ3\", n_of_objectives= 3, n_of_variables=20)\n",
    "dtlz3"
   ]
  },
  {
   "cell_type": "markdown",
   "metadata": {},
   "source": [
    "How to use these instances for other purposes, such as generating data:"
   ]
  },
  {
   "cell_type": "code",
   "execution_count": 5,
   "metadata": {},
   "outputs": [],
   "source": [
    "import numpy as np"
   ]
  },
  {
   "cell_type": "markdown",
   "metadata": {},
   "source": [
    "Generate input data as desired:"
   ]
  },
  {
   "cell_type": "code",
   "execution_count": 6,
   "metadata": {},
   "outputs": [
    {
     "name": "stdout",
     "output_type": "stream",
     "text": [
      "[[1.30477065e-01 6.28440334e-01 1.89650809e-01 5.44508178e-02\n",
      "  6.60023614e-01 3.29800134e-01 6.71801546e-01 5.06174568e-01\n",
      "  6.33333777e-01 3.54036402e-01 1.13954726e-01 7.87419022e-01\n",
      "  8.41992428e-01 1.65431512e-01 5.56145020e-01 3.83350679e-01\n",
      "  3.89768423e-01 3.16839929e-01 8.91489886e-01 6.13563333e-01\n",
      "  6.78835975e-01 9.20144005e-01 3.14345677e-02 1.25910272e-01\n",
      "  9.55663934e-01 8.79793547e-01 4.61051320e-04 5.44969030e-01\n",
      "  6.62618818e-01 7.23055420e-01]\n",
      " [1.56167823e-01 6.71550643e-01 3.62853188e-01 6.46468449e-01\n",
      "  4.72754447e-01 9.70606170e-01 2.09394847e-01 9.36381085e-01\n",
      "  5.64334267e-01 5.28862048e-01 6.79659189e-01 9.21968631e-01\n",
      "  9.57676025e-02 9.98473390e-01 3.85298270e-01 8.22472227e-01\n",
      "  6.18638828e-01 5.01907470e-01 7.93295398e-01 8.69679775e-01\n",
      "  9.24485290e-01 7.87973617e-01 3.29894018e-01 2.98299046e-01\n",
      "  3.84523428e-01 7.01665375e-02 6.78996669e-01 7.90927480e-01\n",
      "  6.75835769e-01 6.92534788e-01]\n",
      " [6.80648972e-01 4.97517349e-01 6.19520153e-01 9.36110821e-01\n",
      "  2.26471836e-01 8.11796965e-01 3.94881651e-01 8.48671051e-01\n",
      "  3.05467775e-01 5.99951292e-01 9.26192051e-01 3.39562443e-02\n",
      "  8.94471989e-01 5.08403635e-01 8.97579952e-01 1.99835284e-01\n",
      "  7.17229790e-01 3.66209815e-01 1.67974766e-01 7.54903962e-01\n",
      "  8.33284227e-01 1.19927178e-01 2.63063691e-01 9.81789925e-01\n",
      "  9.13608242e-01 7.47422127e-01 7.29437949e-01 8.59082813e-02\n",
      "  4.89030986e-01 2.47183701e-01]]\n"
     ]
    }
   ],
   "source": [
    "number_of_samples = 3\n",
    "zdt_data = np.random.random((number_of_samples, 30))  # 30 is the number of variables in the ZDT1 problem\n",
    "print(zdt_data)"
   ]
  },
  {
   "cell_type": "code",
   "execution_count": 7,
   "metadata": {},
   "outputs": [],
   "source": [
    "dtlz_data = np.random.random((number_of_samples, 20)) # We put the number of variables earlier as 20"
   ]
  },
  {
   "cell_type": "markdown",
   "metadata": {},
   "source": [
    "`<MOProblem object>.evaluate(data)` returns a tuple containing the objective values and constraint violations"
   ]
  },
  {
   "cell_type": "code",
   "execution_count": 11,
   "metadata": {},
   "outputs": [
    {
     "data": {
      "text/plain": [
       "EvaluationResults(objectives=array([[0.13047706, 4.68454477],\n",
       "       [0.15616782, 5.48154124],\n",
       "       [0.68064897, 3.98086238]]), fitness=array([[0.13047706, 4.68454477],\n",
       "       [0.15616782, 5.48154124],\n",
       "       [0.68064897, 3.98086238]]), constraints=None, uncertainity=array([[nan, nan],\n",
       "       [nan, nan],\n",
       "       [nan, nan]]))"
      ]
     },
     "execution_count": 11,
     "metadata": {},
     "output_type": "execute_result"
    }
   ],
   "source": [
    "zdt_obj_val = zdt1.evaluate(zdt_data)\n",
    "zdt_obj_val"
   ]
  },
  {
   "cell_type": "markdown",
   "metadata": {},
   "source": [
    "There are no constraints in the zdt or dtlz problems, hence cons_val is None"
   ]
  },
  {
   "cell_type": "code",
   "execution_count": 9,
   "metadata": {},
   "outputs": [
    {
     "data": {
      "text/plain": [
       "EvaluationResults(objectives=array([[1022.84381146,  633.60738226, 1367.88921928],\n",
       "       [ 499.93834118,  635.49718172, 1385.76880423],\n",
       "       [ 366.47512592, 1568.25711826, 1043.99790257]]), fitness=array([[1022.84381146,  633.60738226, 1367.88921928],\n",
       "       [ 499.93834118,  635.49718172, 1385.76880423],\n",
       "       [ 366.47512592, 1568.25711826, 1043.99790257]]), constraints=None, uncertainity=array([[nan, nan, nan],\n",
       "       [nan, nan, nan],\n",
       "       [nan, nan, nan]]))"
      ]
     },
     "execution_count": 9,
     "metadata": {},
     "output_type": "execute_result"
    }
   ],
   "source": [
    "dtlz_obj_val = dtlz3.evaluate(dtlz_data)\n",
    "dtlz_obj_val"
   ]
  }
 ],
 "metadata": {
  "kernelspec": {
   "display_name": "desdeo-problem",
   "language": "python",
   "name": "desdeo-problem"
  },
  "language_info": {
   "codemirror_mode": {
    "name": "ipython",
    "version": 3
   },
   "file_extension": ".py",
   "mimetype": "text/x-python",
   "name": "python",
   "nbconvert_exporter": "python",
   "pygments_lexer": "ipython3",
   "version": "3.7.1"
  }
 },
 "nbformat": 4,
 "nbformat_minor": 2
}
